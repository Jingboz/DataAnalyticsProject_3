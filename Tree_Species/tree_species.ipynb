{
 "cells": [
  {
   "cell_type": "code",
   "execution_count": 1,
   "metadata": {},
   "outputs": [],
   "source": [
    "import csv\n",
    "import json"
   ]
  },
  {
   "cell_type": "code",
   "execution_count": 5,
   "metadata": {},
   "outputs": [],
   "source": [
    "\n",
    "forest_area_path = \"Australia_forest_area.csv\"\n",
    "csvfile = open(forest_area_path, 'r')\n",
    "jsonfile = open('./output/forest_area.json', 'w')\n",
    "\n",
    "fieldnames = ('state', 'area')\n",
    "reader = csv.DictReader(csvfile, fieldnames)\n",
    "\n",
    "data = []\n",
    "for row in reader:\n",
    "    data.append(row)\n",
    "\n",
    "json.dump(data, jsonfile)"
   ]
  },
  {
   "cell_type": "code",
   "execution_count": 9,
   "metadata": {},
   "outputs": [],
   "source": [
    "Tree_species_path = \"Tree_species_area.csv\"\n",
    "csvfile = open(Tree_species_path, 'r')\n",
    "jsonfile = open(\"./output/Tree_species_area.json\", 'w')\n",
    "\n",
    "fieldnames = ('type', 'ACT','NSW','NT','OLD','SA','TAS','VIC','WA','AU')\n",
    "reader = csv.DictReader(csvfile, fieldnames)\n",
    "\n",
    "data = []\n",
    "for row in reader:\n",
    "    data.append(row)\n",
    "\n",
    "json.dump(data, jsonfile)"
   ]
  },
  {
   "attachments": {},
   "cell_type": "markdown",
   "metadata": {},
   "source": [
    "mongoimport --type json -d Project3 -c forest_area --drop --jsonArray forest_area.json\n",
    "\n",
    "mongoimport --type json -d Project3 -c tree_sp --drop --jsonArray Tree_species_area.json"
   ]
  }
 ],
 "metadata": {
  "kernelspec": {
   "display_name": "PythonData",
   "language": "python",
   "name": "python3"
  },
  "language_info": {
   "codemirror_mode": {
    "name": "ipython",
    "version": 3
   },
   "file_extension": ".py",
   "mimetype": "text/x-python",
   "name": "python",
   "nbconvert_exporter": "python",
   "pygments_lexer": "ipython3",
   "version": "3.7.7"
  },
  "orig_nbformat": 4
 },
 "nbformat": 4,
 "nbformat_minor": 2
}
